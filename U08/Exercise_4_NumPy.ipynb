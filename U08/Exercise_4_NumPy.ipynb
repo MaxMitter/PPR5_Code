{
 "cells": [
  {
   "cell_type": "markdown",
   "metadata": {},
   "source": [
    "## Exercises NumPy"
   ]
  },
  {
   "cell_type": "markdown",
   "metadata": {},
   "source": [
    "### NumPy"
   ]
  },
  {
   "cell_type": "markdown",
   "metadata": {},
   "source": [
    "Please solve the following exercises. If necessary provide test cases:\\\n",
    "a) Create a NumPy Array \"a\" of size 50 with random numbers between 0 and 100.\\\n",
    "b) Create a NumPy Array \"b\" of size 10*10 with random numbers less than 0.\\\n",
    "c) Calculate the sum and average of each column and each row of \"b\".\\\n",
    "d) Print all values of \"a\" that are greater than 1 but smaller than 6. How many percent of the numbers are in that range?\\\n",
    "e) Create a NumPy Array \"c\" of size 30 with the repeating sequence \"1, 2, 3, 4\".\\\n",
    "f) Create a 3×3 NumPy Array \"d\" of all True’s\\\n",
    "g) Extract all odd numbers from \"a\".\\\n",
    "h) Write a NumPy program to get the powers of an array values element-wise. (First element to the power of the second element, second element to the power of the third element, ...).\\\n",
    "i) Write a NumPy program to multiply a 5x3 matrix by a 3x2 matrix and create a real matrix product.\\\n",
    "j) Write a NumPy program to convert angles from degrees to radians for all elements in a given array.\\\n",
    "k) Find all the peaks in \"a\". Peaks are points surrounded by smaller values on both sides.\\\n",
    "l) Given an array of a non-continuous sequence of dates. Make it a continuous sequence of dates, by filling in the missing dates.\\\n",
    "m) Create a rank array of the same shape as \"b\".\\\n",
    "n) Write a function that has a 2D array as input parameter. If this matrix is squared and its shape is a square number return sliced arrays (horizontal and vertical) with size of the square root of the dimenstions. If this matrix is not squared return an information why the operation could not be performed.\\\n",
    "o) Provide an overview of the frequency of each number of \"b\".\\\n",
    "p) Solve the system of equations:\\\n",
    "$$4x + 3y + 2z = 25$$\n",
    "$$-2x + 2y + 3z = -10$$\n",
    "$$3x -5y + 2z = -4$$"
   ]
  },
  {
   "cell_type": "markdown",
   "metadata": {},
   "source": [
    "Data for exercise l)"
   ]
  },
  {
   "cell_type": "code",
   "execution_count": 2,
   "metadata": {},
   "outputs": [
    {
     "data": {
      "text/plain": [
       "array(['2020-04-01', '2020-04-03', '2020-04-05', '2020-04-07',\n",
       "       '2020-04-09', '2020-04-11', '2020-04-13', '2020-04-15',\n",
       "       '2020-04-17', '2020-04-19', '2020-04-21', '2020-04-23',\n",
       "       '2020-04-25', '2020-04-27', '2020-04-29'], dtype='datetime64[D]')"
      ]
     },
     "execution_count": 2,
     "metadata": {},
     "output_type": "execute_result"
    }
   ],
   "source": [
    "import numpy as np\n",
    "dates = np.arange(np.datetime64('2020-04-01'), np.datetime64('2020-04-30'), 2)\n",
    "dates"
   ]
  },
  {
   "cell_type": "markdown",
   "metadata": {},
   "source": [
    "a) *Your code...* "
   ]
  },
  {
   "cell_type": "code",
   "execution_count": null,
   "metadata": {},
   "outputs": [],
   "source": [
    "a = np.random.randint(0, 100, 50)\n",
    "a"
   ]
  },
  {
   "cell_type": "markdown",
   "metadata": {},
   "source": [
    "b) *Your code...* "
   ]
  },
  {
   "cell_type": "code",
   "execution_count": null,
   "metadata": {},
   "outputs": [],
   "source": [
    "b = np.random.randint(-100, 0, size=(10,10))\n",
    "b"
   ]
  },
  {
   "cell_type": "markdown",
   "metadata": {},
   "source": [
    "c) *Your code...* "
   ]
  },
  {
   "cell_type": "code",
   "execution_count": null,
   "metadata": {},
   "outputs": [],
   "source": [
    "sumscol = b.sum(axis=0)\n",
    "avgscol = b.mean(axis=0)\n",
    "sumsrow = b.sum(axis=1)\n",
    "avgsrow = b.mean(axis=1)\n",
    "print(f'sums col: {sumscol}\\n avgs col: {avgscol}')\n",
    "print(f'sums row: {sumsrow}\\n avgs row: {avgsrow}')"
   ]
  },
  {
   "cell_type": "markdown",
   "metadata": {},
   "source": [
    "d) *Your code...* "
   ]
  },
  {
   "cell_type": "code",
   "execution_count": 22,
   "metadata": {},
   "outputs": [
    {
     "name": "stdout",
     "output_type": "stream",
     "text": [
      "values: [3]\n",
      "percentage: 2.0 %\n"
     ]
    }
   ],
   "source": [
    "values_in_range = [x for x in a if x >= 1 and x <= 6] \n",
    "print(f'values: {values_in_range}')\n",
    "print(f'percentage: {(len(values_in_range) / len(a)) * 100} %')"
   ]
  },
  {
   "cell_type": "markdown",
   "metadata": {},
   "source": [
    "e) *Your code...* "
   ]
  },
  {
   "cell_type": "code",
   "execution_count": null,
   "metadata": {},
   "outputs": [],
   "source": [
    "e = np.repeat([\"1, 2, 3, 4\"], 30)\n",
    "e"
   ]
  },
  {
   "cell_type": "markdown",
   "metadata": {},
   "source": [
    "f) *Your code...* "
   ]
  },
  {
   "cell_type": "code",
   "execution_count": 5,
   "metadata": {},
   "outputs": [
    {
     "data": {
      "text/plain": [
       "array([[ True,  True,  True],\n",
       "       [ True,  True,  True],\n",
       "       [ True,  True,  True]])"
      ]
     },
     "execution_count": 5,
     "metadata": {},
     "output_type": "execute_result"
    }
   ],
   "source": [
    "f = np.ones(9, dtype=bool).reshape(3, 3)\n",
    "f"
   ]
  },
  {
   "cell_type": "markdown",
   "metadata": {},
   "source": [
    "g) *Your code...* "
   ]
  },
  {
   "cell_type": "code",
   "execution_count": null,
   "metadata": {},
   "outputs": [],
   "source": [
    "odds = [x for x in a if x % 2 != 0]\n",
    "odds"
   ]
  },
  {
   "cell_type": "markdown",
   "metadata": {},
   "source": [
    "h) *Your code...* "
   ]
  },
  {
   "cell_type": "code",
   "execution_count": 33,
   "metadata": {},
   "outputs": [
    {
     "data": {
      "text/plain": [
       "'1.20.1'"
      ]
     },
     "execution_count": 33,
     "metadata": {},
     "output_type": "execute_result"
    }
   ],
   "source": [
    "np.__version__\n"
   ]
  },
  {
   "cell_type": "markdown",
   "metadata": {},
   "source": [
    "i) *Your code...* "
   ]
  },
  {
   "cell_type": "markdown",
   "metadata": {},
   "source": [
    "j) *Your code...* "
   ]
  },
  {
   "cell_type": "markdown",
   "metadata": {},
   "source": [
    "k) *Your code...* "
   ]
  },
  {
   "cell_type": "markdown",
   "metadata": {},
   "source": [
    "l) *Your code...* "
   ]
  },
  {
   "cell_type": "markdown",
   "metadata": {},
   "source": [
    "m) *Your code...* "
   ]
  },
  {
   "cell_type": "markdown",
   "metadata": {},
   "source": [
    "n) *Your code...* "
   ]
  },
  {
   "cell_type": "markdown",
   "metadata": {},
   "source": [
    "o) *Your code...* "
   ]
  },
  {
   "cell_type": "markdown",
   "metadata": {},
   "source": [
    "p) *Your code...* "
   ]
  }
 ],
 "metadata": {
  "kernelspec": {
   "display_name": "Python 3",
   "language": "python",
   "name": "python3"
  },
  "language_info": {
   "codemirror_mode": {
    "name": "ipython",
    "version": 3
   },
   "file_extension": ".py",
   "mimetype": "text/x-python",
   "name": "python",
   "nbconvert_exporter": "python",
   "pygments_lexer": "ipython3",
   "version": "3.8.8"
  }
 },
 "nbformat": 4,
 "nbformat_minor": 4
}
