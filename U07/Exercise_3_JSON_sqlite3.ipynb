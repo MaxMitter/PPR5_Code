{
 "cells": [
  {
   "cell_type": "markdown",
   "metadata": {},
   "source": [
    "## Exercise 3: JSON & sqlite3\n",
    "This exercise should help you to get a feeling, how to load data, how to store data and how to create an interaction between different packages."
   ]
  },
  {
   "cell_type": "code",
   "execution_count": 2,
   "metadata": {},
   "outputs": [],
   "source": [
    "# import neccessary packages here\n",
    "import json\n",
    "import sqlite3"
   ]
  },
  {
   "cell_type": "markdown",
   "metadata": {},
   "source": [
    "### a) JSON to sqlite 3\n",
    "\n",
    "Write a Script that extracts the data from \"newsletter.json\" and stores it to an sqlite3 database. How you create the table and transfer the data is up to you."
   ]
  },
  {
   "cell_type": "code",
   "execution_count": 9,
   "metadata": {},
   "outputs": [
    {
     "data": {
      "text/plain": [
       "<sqlite3.Cursor at 0x1f060d71570>"
      ]
     },
     "execution_count": 9,
     "metadata": {},
     "output_type": "execute_result"
    }
   ],
   "source": [
    "# your code goes here\n",
    "with open(\"newsletter.json\") as f:\n",
    "    data = json.load(f)\n",
    "\n",
    "conn = sqlite3.connect(\"newsletter.db\")\n",
    "\n",
    "c = conn.cursor()\n",
    "\n",
    "c.execute('''CREATE TABLE IF NOT EXISTS Person (id number, first_name text, last_name text, email text, gender text, ip_address text, \n",
    "                subscribed_at date, premium_member bool)''')\n",
    "\n",
    "c.executemany('''INSERT INTO Person (id, first_name, last_name, email, gender, ip_address, subscribed_at, premium_member) \n",
    "                 VALUES (:id, :first_name, :last_name, :email, :gender, :ip_address, :subscribed_at, :premium_member)''', data)\n",
    "\n",
    "conn.commit()"
   ]
  },
  {
   "cell_type": "code",
   "execution_count": 10,
   "metadata": {},
   "outputs": [],
   "source": [
    "conn.commit()"
   ]
  },
  {
   "cell_type": "markdown",
   "metadata": {},
   "source": [
    "### b) SQL statements\n",
    "Write a script to perform the following statements:"
   ]
  },
  {
   "cell_type": "markdown",
   "metadata": {},
   "source": [
    "- Get the full names of all the premium users"
   ]
  },
  {
   "cell_type": "code",
   "execution_count": null,
   "metadata": {},
   "outputs": [],
   "source": [
    "# your code goes here\n",
    "for row in c.execute('SELECT first_name || \" \" || last_name FROM Person WHERE premium_member = TRUE'):\n",
    "    print(row)"
   ]
  },
  {
   "cell_type": "markdown",
   "metadata": {},
   "source": [
    "- What is the ratio of premium users?"
   ]
  },
  {
   "cell_type": "code",
   "execution_count": 27,
   "metadata": {},
   "outputs": [
    {
     "name": "stdout",
     "output_type": "stream",
     "text": [
      "(270,)\n",
      "Total: 500, Premium: 270, Ration = 0.54\n"
     ]
    }
   ],
   "source": [
    "# your code goes here\n",
    "amount_premium = c.execute('SELECT COUNT(*) FROM Person WHERE premium_member = TRUE').fetchone()\n",
    "amount_total = c.execute('SELECT COUNT(*) FROM Person').fetchone()\n",
    "print(amount_premium)\n",
    "print(f'Total: {amount_total[0]}, Premium: {amount_premium[0]}, Ration = {amount_premium[0] / amount_total[0]}')"
   ]
  },
  {
   "cell_type": "markdown",
   "metadata": {},
   "source": [
    "- What is the most common first name?"
   ]
  },
  {
   "cell_type": "code",
   "execution_count": 26,
   "metadata": {},
   "outputs": [
    {
     "name": "stdout",
     "output_type": "stream",
     "text": [
      "('Ulrich', 2)\n"
     ]
    }
   ],
   "source": [
    "# your code goes here\n",
    "first_name = c.execute('SELECT first_name, COUNT(*) AS Amount FROM Person GROUP BY first_name ORDER BY Amount DESC')\n",
    "print(first_name.fetchone())"
   ]
  }
 ],
 "metadata": {
  "kernelspec": {
   "display_name": "Python 3",
   "language": "python",
   "name": "python3"
  },
  "language_info": {
   "codemirror_mode": {
    "name": "ipython",
    "version": 3
   },
   "file_extension": ".py",
   "mimetype": "text/x-python",
   "name": "python",
   "nbconvert_exporter": "python",
   "pygments_lexer": "ipython3",
   "version": "3.8.8"
  }
 },
 "nbformat": 4,
 "nbformat_minor": 4
}
